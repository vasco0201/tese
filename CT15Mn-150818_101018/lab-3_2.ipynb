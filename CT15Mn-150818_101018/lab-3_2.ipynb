{
 "cells": [
  {
   "cell_type": "markdown",
   "metadata": {},
   "source": [
    "# Learning and Decision Making"
   ]
  },
  {
   "cell_type": "markdown",
   "metadata": {},
   "source": [
    "## Laboratory 3: Partially observable Markov decision problems\n",
    "\n",
    "In the end of the lab, you should submit all code/answers written in the tasks marked as \"Activity n. XXX\", together with the corresponding outputs and any replies to specific questions posed to the e-mail <adi.tecnico@gmail.com>. Make sure that the subject is of the form [&lt;group n.&gt;] LAB &lt;lab n.&gt;."
   ]
  },
  {
   "cell_type": "markdown",
   "metadata": {},
   "source": [
    "### 1. Modeling\n",
    "\n",
    "Consider once again the POMDP problem from the homework and represented in the transition diagram below.\n",
    "\n",
    "<img src=\"pomdp.png\" width=\"400px\">\n",
    "\n",
    "Recall that:\n",
    "\n",
    "* All transitions occur with probability 1 except those from state $A$, where the probabilities are indicated under the edge label.\n",
    "\n",
    "* At each step, the agent makes an observation corresponding to the letter in the state designation. Such observation occurs with probability 1.\n",
    "\n",
    "Consider throughout that $\\gamma=0.9$."
   ]
  },
  {
   "cell_type": "markdown",
   "metadata": {},
   "source": [
    "---\n",
    "\n",
    "#### Activity 1.        \n",
    "\n",
    "Implement your POMDP in Python. In particular,\n",
    "\n",
    "* Create a list with all the states;\n",
    "* Create a list with all the actions;\n",
    "* Create a list with all the observations\n",
    "* For each action, define a `numpy` array with the corresponding transition probabilities;\n",
    "* For each action, define a `numpy` array with the corresponding observation probabilities;\n",
    "* Define a `numpy` array with the cost describing the problem.\n",
    "\n",
    "The order for the states and actions used in the transition probability and cost matrices should match that in the lists of states and actions. \n",
    "\n",
    "**Note**: Don't forget to import `numpy`.\n",
    "\n",
    "---"
   ]
  },
  {
   "cell_type": "code",
   "execution_count": 7,
   "metadata": {
    "scrolled": false
   },
   "outputs": [],
   "source": [
    "import numpy as np\n",
    "states = [\"A\",\"B1\",\"B2\",\"C\",\"D\",\"E\",\"F\"]\n",
    "actions = [\"a\",\"b\",\"c\"]\n",
    "obs = [\"A\",\"B\",\"C\",\"D\",\"E\",\"F\"]\n",
    "\n",
    "pa = np.array([[0,0.5,0.5,0,0,0,0],\n",
    "               [0,0,0,0,0,1,0],\n",
    "               [0,0,0,0,0,0,1],\n",
    "               [0,1,0,0,0,0,0],\n",
    "               [0,0,1,0,0,0,0],\n",
    "               [1,0,0,0,0,0,0],\n",
    "               [1,0,0,0,0,0,0]\n",
    "              ])\n",
    "\n",
    "pb = np.array([[0,0.5,0.5,0,0,0,0],\n",
    "               [0,0,0,0,0,0,1],\n",
    "               [0,0,0,0,0,1,0],\n",
    "               [0,1,0,0,0,0,0],\n",
    "               [0,0,1,0,0,0,0],\n",
    "               [1,0,0,0,0,0,0],\n",
    "               [1,0,0,0,0,0,0],\n",
    "              ])\n",
    "\n",
    "pc = np.array([[0,0.5,0.5,0,0,0,0],\n",
    "               [0,0,0,1,0,0,0],\n",
    "               [0,0,0,0,1,0,0],\n",
    "               [0,1,0,0,0,0,0],\n",
    "               [0,0,1,0,0,0,0],\n",
    "               [1,0,0,0,0,0,0],\n",
    "               [1,0,0,0,0,0,0]\n",
    "              ])\n",
    "tpm = [pa,pb,pc]\n",
    "\n",
    "obs_prob = np.array([[1,0,0,0,0,0],\n",
    "                     [0,1,0,0,0,0],\n",
    "                     [0,1,0,0,0,0],\n",
    "                     [0,0,1,0,0,0],\n",
    "                     [0,0,0,1,0,0],\n",
    "                     [0,0,0,0,1,0],\n",
    "                     [0,0,0,0,0,1],\n",
    "                    ])\n",
    "\n",
    "c = np.array([[1,1,1,1],\n",
    "              [1,1,1,1],\n",
    "              [1,1,1,1],\n",
    "              [1,1,1,1],\n",
    "              [1,1,1,1],\n",
    "              [1,1,1,1],\n",
    "              [0,0,0,0]\n",
    "             ])\n",
    "gamma= 0.9"
   ]
  },
  {
   "cell_type": "markdown",
   "metadata": {},
   "source": [
    "### 2. Sampling\n",
    "\n",
    "You are now going to sample random trajectories of your POMDP and observe the impact it has on the corresponding belief."
   ]
  },
  {
   "cell_type": "markdown",
   "metadata": {
    "raw_mimetype": "text/latex"
   },
   "source": [
    "---\n",
    "\n",
    "#### Activity 2.\n",
    "\n",
    "Generate a random POMDP trajectory using a uniformly random policy. In particular, from a random initial state $x_0$ generate:\n",
    "\n",
    "1. A sequence of 10,000 states by selecting the actions uniformly at random;\n",
    "2. The corresponding sequence of 10,000 actions;\n",
    "3. The corresponding sequence of 10,000 observations.\n",
    "\n",
    "---"
   ]
  },
  {
   "cell_type": "code",
   "execution_count": 8,
   "metadata": {
    "scrolled": false
   },
   "outputs": [
    {
     "name": "stdout",
     "output_type": "stream",
     "text": [
      "States:\n",
      " 10000\n",
      "Actions:\n",
      " 10000\n",
      "Observations:\n",
      " 10000\n"
     ]
    }
   ],
   "source": [
    "import random\n",
    "def gen_trajectory():\n",
    "    pi = np.array([[1/3,1/3,1/3],\n",
    "                   [1/3,1/3,1/3],\n",
    "                   [1/3,1/3,1/3],\n",
    "                   [1/3,1/3,1/3],\n",
    "                   [1/3,1/3,1/3],\n",
    "                   [1/3,1/3,1/3],\n",
    "                   [1/3,1/3,1/3]\n",
    "                  ])\n",
    "    s = []\n",
    "    a = []\n",
    "    o = []\n",
    "    state = states.index(random.choice(states))\n",
    "    action = actions.index(np.random.choice(actions, p = pi[state]))\n",
    "    for i in range(10000):\n",
    "        s.append(states[state])\n",
    "        a += actions[action]\n",
    "        state = states.index(np.random.choice(states, p = tpm[action][state]))\n",
    "        o += np.random.choice(obs, p = obs_prob[state])\n",
    "        action = actions.index(np.random.choice(actions, p = pi[state]))\n",
    "                            \n",
    "    print(\"States:\\n\", len(s))    \n",
    "    print(\"Actions:\\n\", len(a))\n",
    "    print(\"Observations:\\n\", len(o))\n",
    "    return s,a,o\n",
    "\n",
    "traj_s,traj_a,traj_o = gen_trajectory()\n",
    "        \n",
    "        "
   ]
  },
  {
   "cell_type": "markdown",
   "metadata": {},
   "source": [
    "---\n",
    "\n",
    "#### Activity 3.\n",
    "\n",
    "For the POMDP trajectory generated in Activity 2, compute the corresponding sequence of beliefs, assuming that the agent does not know its initial state. Report the resulting beliefs, ignoring duplicate beliefs or beliefs whose distance is smaller than $10^{-3}$.\n",
    "\n",
    "**Note 1:** You may want to define a function `belief_update` that receives a belief, an action and an observation and returns the updated belief.\n",
    "\n",
    "**Note 2:** To compute the distance between vectors, you may find useful `numpy`'s function `linalg.norm`.\n",
    "\n",
    "\n",
    "---"
   ]
  },
  {
   "cell_type": "code",
   "execution_count": 9,
   "metadata": {
    "scrolled": false
   },
   "outputs": [
    {
     "name": "stdout",
     "output_type": "stream",
     "text": [
      "[array([0.14285714, 0.14285714, 0.14285714, 0.14285714, 0.14285714,\n",
      "       0.14285714, 0.14285714]), array([1., 0., 0., 0., 0., 0., 0.]), array([0. , 0.5, 0.5, 0. , 0. , 0. , 0. ]), array([0., 0., 0., 1., 0., 0., 0.]), array([0., 1., 0., 0., 0., 0., 0.]), array([0., 0., 0., 0., 0., 0., 1.]), array([0., 0., 0., 0., 0., 1., 0.]), array([0., 0., 0., 0., 1., 0., 0.]), array([0., 0., 1., 0., 0., 0., 0.])]\n"
     ]
    }
   ],
   "source": [
    "belief = np.array([1/7,1/7,1/7,1/7,1/7,1/7,1/7])\n",
    " \n",
    "\n",
    "def belief_update(b,a,o):\n",
    "    p = tpm[actions.index(a)]\n",
    "    z = obs.index(o)\n",
    "    d = np.diag(obs_prob[:,z])\n",
    "    new_b = np.dot(np.dot(b,p),d)\n",
    "\n",
    "    return new_b/sum(new_b)\n",
    "\n",
    "beliefs = [belief]\n",
    "for i in range(len(traj_s)):\n",
    "    nxt_b = belief_update(belief, traj_a[i], traj_o[i])\n",
    "    belief = nxt_b\n",
    "    new_b = True\n",
    "    for b in beliefs:\n",
    "        if (np.linalg.norm(b-nxt_b) < 1e-3) or (np.array_equal(b, nxt_b)):\n",
    "            new_b = False\n",
    "    if (new_b == True):\n",
    "        beliefs.append(nxt_b)\n",
    "print(beliefs)\n"
   ]
  },
  {
   "cell_type": "markdown",
   "metadata": {},
   "source": [
    "### 3. Solution methods\n",
    "\n",
    "In this section you are going to compare different non-exact solution methods."
   ]
  },
  {
   "cell_type": "markdown",
   "metadata": {},
   "source": [
    "---\n",
    "\n",
    "#### Activity 4\n",
    "\n",
    "Compute the solution for the underlying MDP and report the corresponding optimal policy and optimal cost-to-go. \n",
    "\n",
    "** Note:** You may reuse code from previous labs.\n",
    "\n",
    "---"
   ]
  },
  {
   "cell_type": "code",
   "execution_count": 10,
   "metadata": {
    "scrolled": false
   },
   "outputs": [
    {
     "name": "stdout",
     "output_type": "stream",
     "text": [
      "Time: 0.012273550033569336 s\n",
      "The optimal policy is:\n",
      " [[0.33333333 0.33333333 0.33333333]\n",
      " [0.         1.         0.        ]\n",
      " [1.         0.         0.        ]\n",
      " [0.33333333 0.33333333 0.33333333]\n",
      " [0.33333333 0.33333333 0.33333333]\n",
      " [0.33333333 0.33333333 0.33333333]\n",
      " [0.33333333 0.33333333 0.33333333]]\n",
      "The optimal cost-to-go is:\n",
      " [[7.01107011]\n",
      " [6.67896679]\n",
      " [6.67896679]\n",
      " [7.01107011]\n",
      " [7.01107011]\n",
      " [7.3099631 ]\n",
      " [6.3099631 ]]\n"
     ]
    }
   ],
   "source": [
    "import time\n",
    "pi = np.ones((7,3))/3\n",
    "quit = False\n",
    "i = 0\n",
    "t0 = time.time()\n",
    "Qa = np.zeros((7,1))\n",
    "Qb = np.zeros((7,1))\n",
    "Qc = np.zeros((7,1))\n",
    "while not quit:\n",
    "    Cpi = np.diag(pi[:,0]).dot(c[:,0,None]) + np.diag(pi[:,1]).dot(c[:,1,None]) + np.diag(pi[:,2]).dot(c[:,2,None])\n",
    "    Ppi = np.diag(pi[:,0]).dot(pa) + np.diag(pi[:,1]).dot(pb) + np.diag(pi[:,2]).dot(pc)\n",
    "    J = np.linalg.inv(np.eye(7) - gamma*Ppi).dot(Cpi)\n",
    "    \n",
    "    Qa = c[:,0,None] + gamma*pa.dot(J)\n",
    "    Qb = c[:,1,None] + gamma*pb.dot(J)\n",
    "    Qc = c[:,2,None] + gamma*pc.dot(J)\n",
    "    \n",
    "    \n",
    "    pinew = np.zeros((7,3))\n",
    "    pinew[:,0,None] = np.isclose(Qa, np.min([Qa,Qb,Qc], axis=0), atol=1e-8, rtol=1e-8).astype(int)\n",
    "    pinew[:,1,None] = np.isclose(Qb, np.min([Qa,Qb,Qc], axis=0), atol=1e-8, rtol=1e-8).astype(int)\n",
    "    pinew[:,2,None] = np.isclose(Qc, np.min([Qa,Qb,Qc], axis=0), atol=1e-8, rtol=1e-8).astype(int)\n",
    "    \n",
    "    pinew = pinew / np.sum(pinew, axis=1, keepdims= True)\n",
    "    \n",
    "    quit = (pi==pinew).all()\n",
    "    pi = pinew\n",
    "    i += 1\n",
    "       \n",
    "tf = time.time() - t0\n",
    "\n",
    "print(\"Time:\", tf,\"s\")\n",
    "print(\"The optimal policy is:\\n\", pi)\n",
    "print(\"The optimal cost-to-go is:\\n\", J)"
   ]
  },
  {
   "cell_type": "markdown",
   "metadata": {},
   "source": [
    "---\n",
    "\n",
    "#### Activity 5\n",
    "\n",
    "For each of the beliefs computed in Activity 3, compute the action prescribed by:\n",
    "\n",
    "* The MLS heuristic;\n",
    "* The AV heuristic;\n",
    "* The Q-MDP heuristic.\n",
    "\n",
    "---"
   ]
  },
  {
   "cell_type": "code",
   "execution_count": 11,
   "metadata": {
    "scrolled": false
   },
   "outputs": [
    {
     "name": "stdout",
     "output_type": "stream",
     "text": [
      "For the MLS heuristic:\n",
      " [(array([0.14285714, 0.14285714, 0.14285714, 0.14285714, 0.14285714,\n",
      "       0.14285714, 0.14285714]), 'a'), (array([1., 0., 0., 0., 0., 0., 0.]), 'a'), (array([0. , 0.5, 0.5, 0. , 0. , 0. , 0. ]), 'b'), (array([0., 0., 0., 1., 0., 0., 0.]), 'a'), (array([0., 1., 0., 0., 0., 0., 0.]), 'b'), (array([0., 0., 0., 0., 0., 0., 1.]), 'a'), (array([0., 0., 0., 0., 0., 1., 0.]), 'a'), (array([0., 0., 0., 0., 1., 0., 0.]), 'a'), (array([0., 0., 1., 0., 0., 0., 0.]), 'a')]\n",
      "For the AV heuristic:\n",
      " [(array([0.14285714, 0.14285714, 0.14285714, 0.14285714, 0.14285714,\n",
      "       0.14285714, 0.14285714]), 'a'), (array([1., 0., 0., 0., 0., 0., 0.]), 'a'), (array([0. , 0.5, 0.5, 0. , 0. , 0. , 0. ]), 'a'), (array([0., 0., 0., 1., 0., 0., 0.]), 'a'), (array([0., 1., 0., 0., 0., 0., 0.]), 'b'), (array([0., 0., 0., 0., 0., 0., 1.]), 'a'), (array([0., 0., 0., 0., 0., 1., 0.]), 'a'), (array([0., 0., 0., 0., 1., 0., 0.]), 'a'), (array([0., 0., 1., 0., 0., 0., 0.]), 'a')]\n",
      "For the Q-MDP heuristic:\n",
      " [(array([0.14285714, 0.14285714, 0.14285714, 0.14285714, 0.14285714,\n",
      "       0.14285714, 0.14285714]), 'b'), (array([1., 0., 0., 0., 0., 0., 0.]), 'a'), (array([0. , 0.5, 0.5, 0. , 0. , 0. , 0. ]), 'a'), (array([0., 0., 0., 1., 0., 0., 0.]), 'a'), (array([0., 1., 0., 0., 0., 0., 0.]), 'b'), (array([0., 0., 0., 0., 0., 0., 1.]), 'a'), (array([0., 0., 0., 0., 0., 1., 0.]), 'a'), (array([0., 0., 0., 0., 1., 0., 0.]), 'a'), (array([0., 0., 1., 0., 0., 0., 0.]), 'a')]\n"
     ]
    }
   ],
   "source": [
    "mlsh = []\n",
    "avh = []\n",
    "q_mdph = []\n",
    "Q = np.concatenate((Qa,Qb, Qc), axis=1)\n",
    "for b in beliefs:\n",
    "    mlsh.append((b, actions[np.argmax(pi[np.argmax(b)])]))\n",
    "    avh.append((b, actions[np.argmax(np.dot(b, pi))]))\n",
    "    q_mdph.append((b, actions[np.argmin(np.dot(b,Q))]))\n",
    "print(\"For the MLS heuristic:\\n\", mlsh)\n",
    "print(\"For the AV heuristic:\\n\", avh)\n",
    "print(\"For the Q-MDP heuristic:\\n\", q_mdph)"
   ]
  },
  {
   "cell_type": "markdown",
   "metadata": {},
   "source": [
    "---\n",
    "\n",
    "#### Activity 6\n",
    "\n",
    "Suppose that the optimal cost-to-go function for the POMDP can be represented using the $\\alpha$-vectors\n",
    "\n",
    "\n",
    "\n",
    "$$\n",
    "\\left\\{\n",
    "\\begin{bmatrix}\n",
    "8.39727208 \\\\\n",
    "8.70168739 \\\\\n",
    "7.80168739 \\\\\n",
    "8.39727208 \\\\\n",
    "8.39727208 \\\\\n",
    "8.55748144 \\\\\n",
    "7.55748144\n",
    "\\end{bmatrix},\n",
    "\\begin{bmatrix}\n",
    "8.42645332 \\\\\n",
    "8.70168739 \\\\\n",
    "7.80168739 \\\\\n",
    "8.02145332 \\\\\n",
    "8.83145332 \\\\\n",
    "8.55748144 \\\\\n",
    "7.55748144\n",
    "\\end{bmatrix},\n",
    "\\begin{bmatrix}\n",
    "8.42645332 \\\\\n",
    "8.70168739 \\\\\n",
    "7.80168739 \\\\\n",
    "8.83145332 \\\\\n",
    "8.02145332 \\\\\n",
    "8.55748144 \\\\\n",
    "7.55748144\n",
    "\\end{bmatrix},\n",
    "\\begin{bmatrix}\n",
    "8.39727208 \\\\\n",
    "7.80168739 \\\\\n",
    "8.70168739 \\\\\n",
    "8.39727208 \\\\\n",
    "8.39727208 \\\\\n",
    "8.55748144 \\\\\n",
    "7.55748144\n",
    "\\end{bmatrix},\n",
    "\\begin{bmatrix}\n",
    "8.42645332 \\\\\n",
    "7.80168739 \\\\\n",
    "8.70168739 \\\\\n",
    "8.02145332 \\\\\n",
    "8.83145332 \\\\\n",
    "8.55748144 \\\\\n",
    "7.55748144\n",
    "\\end{bmatrix},\n",
    "\\begin{bmatrix}\n",
    "8.42645332 \\\\\n",
    "7.80168739 \\\\\n",
    "8.70168739 \\\\\n",
    "8.83145332 \\\\\n",
    "8.02145332 \\\\\n",
    "8.55748144 \\\\\n",
    "7.55748144\n",
    "\\end{bmatrix},\n",
    "\\begin{bmatrix}\n",
    "8.39727208 \\\\\n",
    "8.2192667  \\\\\n",
    "8.2192667  \\\\\n",
    "8.39727208 \\\\\n",
    "8.39727208 \\\\\n",
    "8.55748144 \\\\\n",
    "7.55748144\n",
    "\\end{bmatrix},\n",
    "\\begin{bmatrix}\n",
    "8.42645332 \\\\\n",
    "8.2192667  \\\\\n",
    "8.2192667  \\\\\n",
    "8.02145332 \\\\\n",
    "8.83145332 \\\\\n",
    "8.55748144 \\\\\n",
    "7.55748144\n",
    "\\end{bmatrix},\n",
    "\\begin{bmatrix}\n",
    "8.42645332 \\\\\n",
    "8.2192667  \\\\\n",
    "8.2192667  \\\\\n",
    "8.83145332 \\\\\n",
    "8.02145332 \\\\\n",
    "8.55748144 \\\\\n",
    "7.55748144\n",
    "\\end{bmatrix},\\right\\}$$\n",
    "\n",
    "where the first 3 vectors correspond to action $a$, the middle three vectors correspond to action $b$ and the last 3 vectors correspond to action $c$. Using the $\\alpha$-vectors above, \n",
    "\n",
    "* Represent the the optimal cost-to-go function for all beliefs of the form $\\mathbf{b}=[0, \\epsilon, 1-\\epsilon, 0, 0, 0, 0]$, with $\\epsilon\\in[0,1]$. \n",
    "* Compare the optimal policy with the MDP heuristics from Activity 5 in the beliefs computed in Activity 3.\n",
    "\n",
    "** Note: ** Don't forget to import `matplotlib`, and use the magic `%matplotlib notebook`.\n",
    "\n",
    "---\n"
   ]
  },
  {
   "cell_type": "code",
   "execution_count": 15,
   "metadata": {
    "scrolled": true
   },
   "outputs": [
    {
     "data": {
      "image/png": "[encoded data removed]",
      "text/plain": [
       "<Figure size 432x288 with 1 Axes>"
      ]
     },
     "metadata": {
      "needs_background": "light"
     },
     "output_type": "display_data"
    },
    {
     "data": {
      "image/png": "[encoded data removed]",
      "text/plain": [
       "<Figure size 432x288 with 1 Axes>"
      ]
     },
     "metadata": {
      "needs_background": "light"
     },
     "output_type": "display_data"
    }
   ],
   "source": [
    "#%matplotlib notebook\n",
    "import matplotlib\n",
    "import matplotlib.pyplot as plt\n",
    "\n",
    "aa1 = np.array([[8.39727208],\n",
    "                [8.70168739],\n",
    "                [7.80168739],\n",
    "                [8.39727208],\n",
    "                [8.39727208],\n",
    "                [8.55748144],\n",
    "                [7.55748144]])\n",
    "aa2 = np.array([[8.42645332],\n",
    "                [8.70168739],\n",
    "                [7.80168739],\n",
    "                [8.02145332],\n",
    "                [8.83145332],\n",
    "                [8.55748144],\n",
    "                [7.55748144]])\n",
    "aa3 = np.array([[8.42645332],\n",
    "                [8.70168739],\n",
    "                [7.80168739],\n",
    "                [8.83145332],\n",
    "                [8.02145332],\n",
    "                [8.55748144],\n",
    "                [7.55748144]])\n",
    "\n",
    "ab1 = np.array([[8.39727208],\n",
    "                [7.80168739],\n",
    "                [8.70168739],\n",
    "                [8.39727208],\n",
    "                [8.39727208],\n",
    "                [8.55748144],\n",
    "                [7.55748144]])\n",
    "ab2 = np.array([[8.42645332], \n",
    "                [7.80168739],\n",
    "                [8.70168739],\n",
    "                [8.02145332], \n",
    "                [8.83145332], \n",
    "                [8.55748144], \n",
    "                [7.55748144]])\n",
    "ab3 = np.array([[8.42645332], \n",
    "               [7.80168739],\n",
    "               [8.70168739], \n",
    "               [8.83145332],\n",
    "               [8.02145332], \n",
    "               [8.55748144],\n",
    "               [7.55748144]])\n",
    "\n",
    "ac1 = np.array([[8.39727208],\n",
    "                [8.2192667],\n",
    "                [8.2192667],\n",
    "                [8.39727208],\n",
    "                [8.39727208],\n",
    "                [8.55748144],\n",
    "                [7.55748144]])\n",
    "ac2 = np.array([[8.42645332],\n",
    "                [8.2192667],\n",
    "                [8.2192667],\n",
    "                [8.02145332],\n",
    "                [8.83145332],\n",
    "                [8.55748144],\n",
    "                [7.55748144]])\n",
    "ac3 = np.array([[8.42645332],\n",
    "                [8.2192667],\n",
    "                [8.2192667],\n",
    "                [8.83145332],\n",
    "                [8.02145332],\n",
    "                [8.55748144],\n",
    "                [7.55748144]])\n",
    "\n",
    "\n",
    "alpha_a = np.minimum(aa1,aa2,aa3)\n",
    "alpha_b = np.minimum(ab1,ab2,ab3)\n",
    "alpha_c = np.minimum(ac1,ac2,ac3)\n",
    "\n",
    "b1 = [0,1,0,0,0,0,0]\n",
    "b2 = [0,0,1,0,0,0,0]\n",
    "\n",
    "alpha_a_2 = np.array([np.dot(b2,alpha_a), np.dot(b1,alpha_a)])\n",
    "alpha_b_2 = np.array([np.dot(b2,alpha_b), np.dot(b1,alpha_b)])\n",
    "alpha_c_2 = np.array([np.dot(b2,alpha_c), np.dot(b1,alpha_c)])\n",
    "\n",
    "alpha_vecs = np.concatenate((alpha_a,alpha_b, alpha_c), axis=1)\n",
    "\n",
    "plt1 = plt.figure(1)\n",
    "plt.title(\"Optimal cost-to-go J\")\n",
    "plt.ylabel(\"J\")\n",
    "plt.xlabel(\"P[X=B2]\")\n",
    "plt.plot(alpha_a_2,\"red\")\n",
    "plt.plot(alpha_b_2,\"green\")\n",
    "plt.plot(alpha_c_2,\"blue\")\n",
    "plt.legend([actions[0], actions[1], actions[2]])\n",
    "plt1.show()\n",
    "\n",
    "plt2 = plt.figure(2)\n",
    "y= [0,1,2]\n",
    "plt.yticks(y,actions)\n",
    "\n",
    "for i in range(len(beliefs)):\n",
    "    plt.scatter(beliefs[i][1],mlsh[i][1],marker=\"o\", c=\"red\")\n",
    "    plt.scatter(beliefs[i][1],avh[i][1],marker=\"o\", c=\"green\")\n",
    "    plt.scatter(beliefs[i][1],q_mdph[i][1],marker=\"o\", c=\"blue\")\n",
    "    plt.scatter(beliefs[i][1],actions[np.argmin(np.dot(beliefs[i],alpha_vecs))],marker=\"o\", c=\"black\")\n",
    "    #a_mls.append(mlsh[i][1])\n",
    "    #a_av.append(avh[i][1])\n",
    "    #a_qmdp.append(q_mdph[i][1])\n",
    "    #a_optimal.append(actions[np.argmin(np.dot(beliefs[i],alpha_vecs))]) \n",
    "    \n",
    "#plt.scatter(x,a_mls,marker=\"o\", c=\"red\")\n",
    "#plt.scatter(x,a_av,marker=\"o\", c=\"green\")\n",
    "#plt.scatter(x,a_qmdp,marker=\"o\", c=\"blue\")\n",
    "#plt.scatter(x,a_optimal,marker=\"o\", c=\"black\")\n",
    "\n",
    "plt.legend([\"MLS heuristic\", \"AV heuristic\", \"Q-MDP heuristic\", \"Optimal Policy\"], bbox_to_anchor= (1.4,1))\n",
    "plt.xlabel(\"P[X=B2]\")\n",
    "plt.ylabel(\"Action\")\n",
    "plt2.show()\n",
    "\n",
    "    \n",
    "    \n",
    "    \n",
    "    \n",
    "\n",
    "    \n",
    "\n",
    "\n",
    "\n"
   ]
  },
  {
   "cell_type": "markdown",
   "metadata": {},
   "source": [
    "Insert your comments here"
   ]
  }
 ],
 "metadata": {
  "celltoolbar": "Raw Cell Format",
  "kernelspec": {
   "display_name": "Python 3",
   "language": "python",
   "name": "python3"
  },
  "language_info": {
   "codemirror_mode": {
    "name": "ipython",
    "version": 3
   },
   "file_extension": ".py",
   "mimetype": "text/x-python",
   "name": "python",
   "nbconvert_exporter": "python",
   "pygments_lexer": "ipython3",
   "version": "3.6.6"
  }
 },
 "nbformat": 4,
 "nbformat_minor": 1
}
